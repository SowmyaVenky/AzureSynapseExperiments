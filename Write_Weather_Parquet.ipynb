{
  "cells": [
    {
      "cell_type": "code",
      "source": [
        "%%pyspark\r\n",
        "df = spark.read.load('abfss://files@venkydatalake101.dfs.core.windows.net/rdu-weather-history.json', format='json')\r\n",
        "display(df.limit(10))"
      ],
      "outputs": [
        {
          "output_type": "display_data",
          "data": {
            "application/vnd.livy.statement-meta+json": {
              "spark_pool": "venkysparkpool",
              "session_id": "1",
              "statement_id": 2,
              "state": "finished",
              "livy_statement_state": "available",
              "queued_time": "2023-07-02T18:31:04.5844121Z",
              "session_start_time": "2023-07-02T18:31:04.6334335Z",
              "execution_start_time": "2023-07-02T18:34:01.9175212Z",
              "execution_finish_time": "2023-07-02T18:34:23.2989361Z",
              "spark_jobs": null,
              "parent_msg_id": "547d7542-45a0-4e78-9ea5-40689de6b8d2"
            },
            "text/plain": "StatementMeta(venkysparkpool, 1, 2, Finished, Available)"
          },
          "metadata": {}
        },
        {
          "output_type": "display_data",
          "data": {
            "application/vnd.synapse.widget-view+json": {
              "widget_id": "813d32fd-2470-4023-b176-bfd80857ce10",
              "widget_type": "Synapse.DataFrame"
            },
            "text/plain": "SynapseWidget(Synapse.DataFrame, 813d32fd-2470-4023-b176-bfd80857ce10)"
          },
          "metadata": {}
        }
      ],
      "execution_count": 8,
      "metadata": {
        "microsoft": {
          "language": "python"
        },
        "collapsed": false
      }
    },
    {
      "cell_type": "code",
      "source": [
        "df.printSchema()"
      ],
      "outputs": [
        {
          "output_type": "display_data",
          "data": {
            "application/vnd.livy.statement-meta+json": {
              "spark_pool": "venkysparkpool",
              "session_id": "1",
              "statement_id": 3,
              "state": "finished",
              "livy_statement_state": "available",
              "queued_time": "2023-07-02T18:31:04.6340709Z",
              "session_start_time": null,
              "execution_start_time": "2023-07-02T18:34:23.4451227Z",
              "execution_finish_time": "2023-07-02T18:34:23.6528323Z",
              "spark_jobs": null,
              "parent_msg_id": "5b0fb7ba-180c-46d3-a937-2ab38edcae09"
            },
            "text/plain": "StatementMeta(venkysparkpool, 1, 3, Finished, Available)"
          },
          "metadata": {}
        },
        {
          "output_type": "stream",
          "name": "stdout",
          "text": [
            "root\n |-- awnd: double (nullable = true)\n |-- date: string (nullable = true)\n |-- prcp: double (nullable = true)\n |-- snow: double (nullable = true)\n |-- snwd: double (nullable = true)\n |-- tmax: long (nullable = true)\n |-- tmin: long (nullable = true)\n\n"
          ]
        }
      ],
      "execution_count": 9,
      "metadata": {
        "jupyter": {
          "source_hidden": false,
          "outputs_hidden": false
        },
        "nteract": {
          "transient": {
            "deleting": false
          }
        }
      }
    },
    {
      "cell_type": "code",
      "source": [
        "df.write.parquet(\"abfss://files@venkydatalake101.dfs.core.windows.net/raleigh_weather_parquet\")"
      ],
      "outputs": [
        {
          "output_type": "display_data",
          "data": {
            "application/vnd.livy.statement-meta+json": {
              "spark_pool": null,
              "session_id": null,
              "statement_id": null,
              "state": "cancelled",
              "livy_statement_state": null,
              "queued_time": "2023-07-02T18:31:04.7061637Z",
              "session_start_time": null,
              "execution_start_time": null,
              "execution_finish_time": "2023-07-02T18:31:19.6634148Z",
              "spark_jobs": null,
              "parent_msg_id": "9b3412d5-f679-4987-a44d-d080ff450210"
            },
            "text/plain": "StatementMeta(, , , Cancelled, )"
          },
          "metadata": {}
        }
      ],
      "execution_count": null,
      "metadata": {
        "jupyter": {
          "source_hidden": false,
          "outputs_hidden": false
        },
        "nteract": {
          "transient": {
            "deleting": false
          }
        }
      }
    },
    {
      "cell_type": "code",
      "source": [
        "df.write.format(\"delta\").save(\"abfss://files@venkydatalake101.dfs.core.windows.net/raleigh_weather_delta\")"
      ],
      "outputs": [
        {
          "output_type": "display_data",
          "data": {
            "application/vnd.livy.statement-meta+json": {
              "spark_pool": "venkysparkpool",
              "session_id": "1",
              "statement_id": 4,
              "state": "finished",
              "livy_statement_state": "available",
              "queued_time": "2023-07-02T18:34:32.8108919Z",
              "session_start_time": null,
              "execution_start_time": "2023-07-02T18:34:32.9669227Z",
              "execution_finish_time": "2023-07-02T18:35:06.4642915Z",
              "spark_jobs": null,
              "parent_msg_id": "936982be-561c-42a5-8b1c-c5251f6edbfb"
            },
            "text/plain": "StatementMeta(venkysparkpool, 1, 4, Finished, Available)"
          },
          "metadata": {}
        }
      ],
      "execution_count": 10,
      "metadata": {
        "jupyter": {
          "source_hidden": false,
          "outputs_hidden": false
        },
        "nteract": {
          "transient": {
            "deleting": false
          }
        },
        "microsoft": {}
      }
    },
    {
      "cell_type": "code",
      "source": [
        "%%pyspark\r\n",
        "from delta.tables import *\r\n",
        "from pyspark.sql.functions import *\r\n",
        "\r\n",
        "deltaTable = DeltaTable.forPath(spark, \"abfss://files@venkydatalake101.dfs.core.windows.net/raleigh_weather_delta\")\r\n",
        "deltaTable.delete(\"prcp = 0\")\r\n",
        "\r\n",
        "deltaTable.delete(\"date >= '2017-01-01' or date <= '2017-12-31'\")\r\n",
        "deltaTable.vacuum()"
      ],
      "outputs": [
        {
          "output_type": "display_data",
          "data": {
            "application/vnd.livy.statement-meta+json": {
              "spark_pool": "venkysparkpool",
              "session_id": "1",
              "statement_id": 8,
              "state": "finished",
              "livy_statement_state": "available",
              "queued_time": "2023-07-02T18:55:35.6090663Z",
              "session_start_time": null,
              "execution_start_time": "2023-07-02T18:55:35.7327567Z",
              "execution_finish_time": "2023-07-02T18:55:54.6987231Z",
              "spark_jobs": null,
              "parent_msg_id": "25ec2716-452b-4b1e-aa8f-b2d23e3f9baa"
            },
            "text/plain": "StatementMeta(venkysparkpool, 1, 8, Finished, Available)"
          },
          "metadata": {}
        },
        {
          "output_type": "execute_result",
          "execution_count": 17,
          "data": {
            "text/plain": "DataFrame[]"
          },
          "metadata": {}
        }
      ],
      "execution_count": 14,
      "metadata": {
        "jupyter": {
          "source_hidden": false,
          "outputs_hidden": false
        },
        "nteract": {
          "transient": {
            "deleting": false
          }
        },
        "microsoft": {
          "language": "python"
        }
      }
    }
  ],
  "metadata": {
    "language_info": {
      "name": "python"
    },
    "kernelspec": {
      "name": "synapse_pyspark",
      "language": "Python",
      "display_name": "Synapse PySpark"
    },
    "kernel_info": {
      "name": "synapse_pyspark"
    },
    "save_output": true,
    "synapse_widget": {
      "version": "0.1",
      "state": {
        "813d32fd-2470-4023-b176-bfd80857ce10": {
          "type": "Synapse.DataFrame",
          "sync_state": {
            "table": {
              "rows": [
                {
                  "0": "2.46",
                  "1": "2017-01-09",
                  "2": "0.0",
                  "3": "0.0",
                  "4": "1.2",
                  "5": "31",
                  "6": "9"
                },
                {
                  "0": "6.04",
                  "1": "2017-01-11",
                  "2": "0.0",
                  "3": "0.0",
                  "4": "0.0",
                  "5": "57",
                  "6": "40"
                },
                {
                  "0": "1.34",
                  "1": "2017-01-19",
                  "2": "0.0",
                  "3": "0.0",
                  "4": "0.0",
                  "5": "63",
                  "6": "36"
                },
                {
                  "0": "2.91",
                  "1": "2017-01-20",
                  "2": "0.09",
                  "3": "0.0",
                  "4": "0.0",
                  "5": "59",
                  "6": "46"
                },
                {
                  "0": "6.04",
                  "1": "2017-01-24",
                  "2": "0.0",
                  "3": "0.0",
                  "4": "0.0",
                  "5": "63",
                  "6": "41"
                },
                {
                  "0": "13.42",
                  "1": "2017-01-26",
                  "2": "0.06",
                  "3": "0.0",
                  "4": "0.0",
                  "5": "70",
                  "6": "43"
                },
                {
                  "0": "6.26",
                  "1": "2017-01-30",
                  "2": "0.0",
                  "3": "0.0",
                  "4": "0.0",
                  "5": "46",
                  "6": "30"
                },
                {
                  "0": "4.7",
                  "1": "2017-02-06",
                  "2": "0.0",
                  "3": "0.0",
                  "4": "0.0",
                  "5": "68",
                  "6": "31"
                },
                {
                  "0": "6.71",
                  "1": "2017-02-10",
                  "2": "0.0",
                  "3": "0.0",
                  "4": "0.0",
                  "5": "51",
                  "6": "26"
                },
                {
                  "0": "11.41",
                  "1": "2017-02-12",
                  "2": "0.05",
                  "3": "0.0",
                  "4": "0.0",
                  "5": "83",
                  "6": "58"
                }
              ],
              "schema": [
                {
                  "key": "0",
                  "name": "awnd",
                  "type": "double"
                },
                {
                  "key": "1",
                  "name": "date",
                  "type": "string"
                },
                {
                  "key": "2",
                  "name": "prcp",
                  "type": "double"
                },
                {
                  "key": "3",
                  "name": "snow",
                  "type": "double"
                },
                {
                  "key": "4",
                  "name": "snwd",
                  "type": "double"
                },
                {
                  "key": "5",
                  "name": "tmax",
                  "type": "bigint"
                },
                {
                  "key": "6",
                  "name": "tmin",
                  "type": "bigint"
                }
              ],
              "truncated": false
            },
            "isSummary": false,
            "language": "scala"
          },
          "persist_state": {
            "view": {
              "type": "details",
              "tableOptions": {},
              "chartOptions": {
                "chartType": "bar",
                "aggregationType": "sum",
                "categoryFieldKeys": [
                  "1"
                ],
                "seriesFieldKeys": [
                  "0"
                ],
                "isStacked": false
              }
            }
          }
        }
      }
    }
  },
  "nbformat": 4,
  "nbformat_minor": 2
}