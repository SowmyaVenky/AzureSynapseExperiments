{
  "cells": [
    {
      "cell_type": "code",
      "source": [
        "%%pyspark\r\n",
        "df = spark.read.load('abfss://files@venkydatalake101.dfs.core.windows.net/rdu-weather-history.json', format='json')\r\n",
        "display(df.limit(10))"
      ],
      "outputs": [
        {
          "output_type": "display_data",
          "data": {
            "application/vnd.livy.statement-meta+json": {
              "spark_pool": "venkysparkpool",
              "session_id": "0",
              "statement_id": 2,
              "state": "finished",
              "livy_statement_state": "available",
              "queued_time": "2023-07-02T17:00:12.8865255Z",
              "session_start_time": "2023-07-02T17:00:12.9379689Z",
              "execution_start_time": "2023-07-02T17:03:13.2565179Z",
              "execution_finish_time": "2023-07-02T17:03:34.9382588Z",
              "spark_jobs": null,
              "parent_msg_id": "e8905f58-f1ea-44fb-9a0a-81807fa32be1"
            },
            "text/plain": "StatementMeta(venkysparkpool, 0, 2, Finished, Available)"
          },
          "metadata": {}
        },
        {
          "output_type": "display_data",
          "data": {
            "application/vnd.synapse.widget-view+json": {
              "widget_id": "5061f97a-ab50-45ca-8c97-b453e75d214c",
              "widget_type": "Synapse.DataFrame"
            },
            "text/plain": "SynapseWidget(Synapse.DataFrame, 5061f97a-ab50-45ca-8c97-b453e75d214c)"
          },
          "metadata": {}
        }
      ],
      "execution_count": 1,
      "metadata": {
        "microsoft": {
          "language": "python"
        },
        "collapsed": false
      }
    },
    {
      "cell_type": "code",
      "source": [
        "df.printSchema()"
      ],
      "outputs": [
        {
          "output_type": "display_data",
          "data": {
            "application/vnd.livy.statement-meta+json": {
              "spark_pool": "venkysparkpool",
              "session_id": "0",
              "statement_id": 4,
              "state": "finished",
              "livy_statement_state": "available",
              "queued_time": "2023-07-02T17:04:11.4255544Z",
              "session_start_time": null,
              "execution_start_time": "2023-07-02T17:04:11.5578466Z",
              "execution_finish_time": "2023-07-02T17:04:11.7351638Z",
              "spark_jobs": null,
              "parent_msg_id": "f4e5732c-f943-4240-8096-29bab859f619"
            },
            "text/plain": "StatementMeta(venkysparkpool, 0, 4, Finished, Available)"
          },
          "metadata": {}
        },
        {
          "output_type": "stream",
          "name": "stdout",
          "text": [
            "root\n |-- awnd: double (nullable = true)\n |-- date: string (nullable = true)\n |-- prcp: double (nullable = true)\n |-- snow: double (nullable = true)\n |-- snwd: double (nullable = true)\n |-- tmax: long (nullable = true)\n |-- tmin: long (nullable = true)\n\n"
          ]
        }
      ],
      "execution_count": 3,
      "metadata": {
        "jupyter": {
          "source_hidden": false,
          "outputs_hidden": false
        },
        "nteract": {
          "transient": {
            "deleting": false
          }
        }
      }
    },
    {
      "cell_type": "code",
      "source": [
        "df.write.parquet(\"abfss://files@venkydatalake101.dfs.core.windows.net/raleigh_weather_parquet\")"
      ],
      "outputs": [
        {
          "output_type": "display_data",
          "data": {
            "application/vnd.livy.statement-meta+json": {
              "spark_pool": "venkysparkpool",
              "session_id": "0",
              "statement_id": 7,
              "state": "finished",
              "livy_statement_state": "available",
              "queued_time": "2023-07-02T17:07:42.4302243Z",
              "session_start_time": null,
              "execution_start_time": "2023-07-02T17:07:42.5691344Z",
              "execution_finish_time": "2023-07-02T17:07:57.465225Z",
              "spark_jobs": null,
              "parent_msg_id": "989a12fd-85fd-4be0-a558-5ed83bf3aae0"
            },
            "text/plain": "StatementMeta(venkysparkpool, 0, 7, Finished, Available)"
          },
          "metadata": {}
        }
      ],
      "execution_count": 6,
      "metadata": {
        "jupyter": {
          "source_hidden": false,
          "outputs_hidden": false
        },
        "nteract": {
          "transient": {
            "deleting": false
          }
        }
      }
    }
  ],
  "metadata": {
    "language_info": {
      "name": "python"
    },
    "kernelspec": {
      "name": "synapse_pyspark",
      "language": "Python",
      "display_name": "Synapse PySpark"
    },
    "kernel_info": {
      "name": "synapse_pyspark"
    },
    "save_output": true,
    "synapse_widget": {
      "version": "0.1",
      "state": {
        "5061f97a-ab50-45ca-8c97-b453e75d214c": {
          "type": "Synapse.DataFrame",
          "sync_state": {
            "table": {
              "rows": [
                {
                  "0": "2.46",
                  "1": "2017-01-09",
                  "2": "0.0",
                  "3": "0.0",
                  "4": "1.2",
                  "5": "31",
                  "6": "9"
                },
                {
                  "0": "6.04",
                  "1": "2017-01-11",
                  "2": "0.0",
                  "3": "0.0",
                  "4": "0.0",
                  "5": "57",
                  "6": "40"
                },
                {
                  "0": "1.34",
                  "1": "2017-01-19",
                  "2": "0.0",
                  "3": "0.0",
                  "4": "0.0",
                  "5": "63",
                  "6": "36"
                },
                {
                  "0": "2.91",
                  "1": "2017-01-20",
                  "2": "0.09",
                  "3": "0.0",
                  "4": "0.0",
                  "5": "59",
                  "6": "46"
                },
                {
                  "0": "6.04",
                  "1": "2017-01-24",
                  "2": "0.0",
                  "3": "0.0",
                  "4": "0.0",
                  "5": "63",
                  "6": "41"
                },
                {
                  "0": "13.42",
                  "1": "2017-01-26",
                  "2": "0.06",
                  "3": "0.0",
                  "4": "0.0",
                  "5": "70",
                  "6": "43"
                },
                {
                  "0": "6.26",
                  "1": "2017-01-30",
                  "2": "0.0",
                  "3": "0.0",
                  "4": "0.0",
                  "5": "46",
                  "6": "30"
                },
                {
                  "0": "4.7",
                  "1": "2017-02-06",
                  "2": "0.0",
                  "3": "0.0",
                  "4": "0.0",
                  "5": "68",
                  "6": "31"
                },
                {
                  "0": "6.71",
                  "1": "2017-02-10",
                  "2": "0.0",
                  "3": "0.0",
                  "4": "0.0",
                  "5": "51",
                  "6": "26"
                },
                {
                  "0": "11.41",
                  "1": "2017-02-12",
                  "2": "0.05",
                  "3": "0.0",
                  "4": "0.0",
                  "5": "83",
                  "6": "58"
                }
              ],
              "schema": [
                {
                  "key": "0",
                  "name": "awnd",
                  "type": "double"
                },
                {
                  "key": "1",
                  "name": "date",
                  "type": "string"
                },
                {
                  "key": "2",
                  "name": "prcp",
                  "type": "double"
                },
                {
                  "key": "3",
                  "name": "snow",
                  "type": "double"
                },
                {
                  "key": "4",
                  "name": "snwd",
                  "type": "double"
                },
                {
                  "key": "5",
                  "name": "tmax",
                  "type": "bigint"
                },
                {
                  "key": "6",
                  "name": "tmin",
                  "type": "bigint"
                }
              ],
              "truncated": false
            },
            "isSummary": false,
            "language": "scala"
          },
          "persist_state": {
            "view": {
              "type": "details",
              "tableOptions": {},
              "chartOptions": {
                "chartType": "bar",
                "aggregationType": "sum",
                "categoryFieldKeys": [
                  "1"
                ],
                "seriesFieldKeys": [
                  "0"
                ],
                "isStacked": false
              }
            }
          }
        }
      }
    }
  },
  "nbformat": 4,
  "nbformat_minor": 2
}