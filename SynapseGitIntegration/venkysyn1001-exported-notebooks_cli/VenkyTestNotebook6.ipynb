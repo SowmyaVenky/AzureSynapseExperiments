{
    "nbformat": 4,
    "nbformat_minor": 2,
    "metadata": {
        "synapse_widget": {
            "version": "0.1",
            "state": {}
        },
        "save_output": true,
        "language_info": {
            "name": "python"
        }
    },
    "cells": [
        {
            "execution_count": 1,
            "cell_type": "code",
            "metadata": {
                "microsoft": {
                    "language": "python"
                }
            },
            "source": [
                "%%pyspark\r\n",
                "df = spark.read.load('abfss://files@venkydatalake1001.dfs.core.windows.net/part-00000-66ea8956-0b0f-454e-8fd1-1b779e39b4a6-c000.snappy.parquet', format='parquet')\r\n",
                "display(df.limit(10))"
            ],
            "outputs": [
                {
                    "output_type": "display_data",
                    "data": {
                        "text/plain": "StatementMeta(, , -1, SessionStarting, )"
                    },
                    "metadata": {}
                }
            ]
        }
    ]
}