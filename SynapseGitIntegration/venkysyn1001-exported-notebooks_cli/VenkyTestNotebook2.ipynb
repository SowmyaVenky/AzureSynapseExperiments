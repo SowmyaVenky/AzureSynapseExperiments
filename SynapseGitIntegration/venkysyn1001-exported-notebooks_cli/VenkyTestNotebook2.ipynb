{
    "nbformat": 4,
    "nbformat_minor": 2,
    "metadata": {
        "save_output": false,
        "language_info": {
            "name": "python"
        }
    },
    "cells": [
        {
            "cell_type": "code",
            "metadata": {},
            "source": [
                "print('Hello World!')"
            ],
            "outputs": []
        }
    ]
}