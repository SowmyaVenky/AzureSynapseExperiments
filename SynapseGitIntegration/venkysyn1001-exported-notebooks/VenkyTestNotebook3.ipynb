{
  "description": "Test Notebook",
  "sessionProperties": {
    "driverMemory": "28g",
    "driverCores": 4,
    "executorMemory": "28g",
    "executorCores": 4,
    "numExecutors": 2
  },
  "metadata": {
    "kernelspec": {
      "name": null,
      "display_name": null
    },
    "language_info": {
      "name": "python",
      "codemirror_mode": null
    },
    "a365ComputeOptions": {
      "id": "/subscriptions/28e1e42a-4438-4c30-9a5f-7d7b488fd883/resourceGroups/1-cd0cff02-playground-sandbox/providers/Microsoft.Synapse/workspaces/venkysyn1001/bigDataPools/venkysparkpool",
      "name": "venkysparkpool",
      "type": "Spark",
      "endpoint": "https://venkysyn1001.dev.azuresynapse.net/livyApi/versions/2019-11-01-preview/sparkPools/venkysparkpool",
      "auth": {
        "type": "AAD",
        "authResource": "https://dev.azuresynapse.net",
        "authHeader": null
      },
      "sparkVersion": "3.4",
      "nodeCount": 3,
      "cores": 4,
      "memory": 28,
      "extraHeader": null
    },
    "sessionKeepAliveTimeout": 30,
    "saveOutput": false,
    "enableDebugMode": false
  },
  "nbformat": 4,
  "nbformat_minor": 2,
  "cells": [
    {
      "cell_type": "code",
      "metadata": {},
      "source": [
        "print('Hello World!')"
      ],
      "attachments": null,
      "outputs": []
    }
  ],
  "entityState": null,
  "renameOperationDetails": null,
  "targetSparkConfiguration": null
}