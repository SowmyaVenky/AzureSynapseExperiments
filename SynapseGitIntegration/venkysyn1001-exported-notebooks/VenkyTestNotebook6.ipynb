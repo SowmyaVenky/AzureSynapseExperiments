{
  "description": null,
  "sessionProperties": {
    "driverMemory": "28g",
    "driverCores": 4,
    "executorMemory": "28g",
    "executorCores": 4,
    "numExecutors": 2
  },
  "metadata": {
    "kernelspec": {
      "name": null,
      "display_name": null
    },
    "language_info": {
      "name": "python",
      "codemirror_mode": null
    },
    "a365ComputeOptions": {
      "id": "/subscriptions/28e1e42a-4438-4c30-9a5f-7d7b488fd883/resourceGroups/1-cd0cff02-playground-sandbox/providers/Microsoft.Synapse/workspaces/venkysyn1001/bigDataPools/venkysparkpool",
      "name": "venkysparkpool",
      "type": "Spark",
      "endpoint": "https://venkysyn1001.dev.azuresynapse.net/livyApi/versions/2019-11-01-preview/sparkPools/venkysparkpool",
      "auth": {
        "type": "AAD",
        "authResource": "https://dev.azuresynapse.net",
        "authHeader": null
      },
      "sparkVersion": "3.4",
      "nodeCount": 3,
      "cores": 4,
      "memory": 28,
      "extraHeader": null
    },
    "sessionKeepAliveTimeout": 30,
    "saveOutput": true,
    "synapse_widget": {
      "version": "0.1",
      "state": {}
    },
    "enableDebugMode": false
  },
  "nbformat": 4,
  "nbformat_minor": 2,
  "cells": [
    {
      "cell_type": "code",
      "metadata": {
        "microsoft": {
          "language": "python"
        }
      },
      "source": [
        "%%pyspark\r\n",
        "df = spark.read.load('abfss://files@venkydatalake1001.dfs.core.windows.net/part-00000-66ea8956-0b0f-454e-8fd1-1b779e39b4a6-c000.snappy.parquet', format='parquet')\r\n",
        "display(df.limit(10))"
      ],
      "attachments": null,
      "outputs": [
        {
          "name": null,
          "execution_count": null,
          "output_type": "display_data",
          "text": null,
          "data": {
            "application/vnd.livy.statement-meta+json": {
              "spark_pool": null,
              "session_id": null,
              "statement_id": -1,
              "statement_ids": [],
              "state": "session_starting",
              "livy_statement_state": null,
              "queued_time": "2024-05-20T13:07:26.8610671Z",
              "session_start_time": "2024-05-20T13:07:26.9017618Z",
              "execution_start_time": null,
              "execution_finish_time": null,
              "spark_jobs": null,
              "parent_msg_id": "de5fb152-3395-47ce-9398-032c9776bb4e"
            },
            "text/plain": "StatementMeta(, , -1, SessionStarting, )"
          },
          "metadata": {}
        }
      ],
      "execution_count": 1
    }
  ],
  "entityState": null,
  "renameOperationDetails": null,
  "targetSparkConfiguration": null
}