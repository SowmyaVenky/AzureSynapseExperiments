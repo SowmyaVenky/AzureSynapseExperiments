{
  "cells": [
    {
      "cell_type": "code",
      "source": [
        "print(spark)"
      ],
      "outputs": [
        {
          "output_type": "display_data",
          "data": {
            "application/vnd.livy.statement-meta+json": {
              "spark_pool": "venkysparkpool",
              "session_id": "1",
              "statement_id": 2,
              "state": "finished",
              "livy_statement_state": "available",
              "queued_time": "2023-10-10T02:23:11.1608684Z",
              "session_start_time": "2023-10-10T02:23:11.2075076Z",
              "execution_start_time": "2023-10-10T02:26:09.0779473Z",
              "execution_finish_time": "2023-10-10T02:26:09.2816923Z",
              "spark_jobs": null,
              "parent_msg_id": "7e081b51-c210-4c07-85bd-b415817307e4"
            },
            "text/plain": "StatementMeta(venkysparkpool, 1, 2, Finished, Available)"
          },
          "metadata": {}
        },
        {
          "output_type": "stream",
          "name": "stdout",
          "text": [
            "<pyspark.sql.session.SparkSession object at 0x7f851eb75eb0>\n"
          ]
        }
      ],
      "execution_count": 9,
      "metadata": {}
    },
    {
      "cell_type": "code",
      "source": [
        "json_genre = spark.read.json(\"abfss://files@venkydatalake1001.dfs.core.windows.net/bronze/movielens/genre\")\r\n",
        "json_genre.printSchema()"
      ],
      "outputs": [
        {
          "output_type": "display_data",
          "data": {
            "application/vnd.livy.statement-meta+json": {
              "spark_pool": "venkysparkpool",
              "session_id": "1",
              "statement_id": 3,
              "state": "finished",
              "livy_statement_state": "available",
              "queued_time": "2023-10-10T02:26:14.5874309Z",
              "session_start_time": null,
              "execution_start_time": "2023-10-10T02:26:14.7558304Z",
              "execution_finish_time": "2023-10-10T02:26:32.1374296Z",
              "spark_jobs": null,
              "parent_msg_id": "30961313-983d-4f77-8c6e-39d2d4cd36e9"
            },
            "text/plain": "StatementMeta(venkysparkpool, 1, 3, Finished, Available)"
          },
          "metadata": {}
        },
        {
          "output_type": "stream",
          "name": "stdout",
          "text": [
            "root\n |-- genre_id: long (nullable = true)\n |-- genre_name: string (nullable = true)\n\n"
          ]
        }
      ],
      "execution_count": 10,
      "metadata": {
        "jupyter": {
          "source_hidden": false,
          "outputs_hidden": false
        },
        "nteract": {
          "transient": {
            "deleting": false
          }
        }
      }
    },
    {
      "cell_type": "code",
      "source": [
        "json_genre.write.mode(\"overwrite\").parquet(\"abfss://files@venkydatalake1001.dfs.core.windows.net/bronze/movielens/genre_parq\")"
      ],
      "outputs": [
        {
          "output_type": "display_data",
          "data": {
            "application/vnd.livy.statement-meta+json": {
              "spark_pool": "venkysparkpool",
              "session_id": "1",
              "statement_id": 4,
              "state": "finished",
              "livy_statement_state": "available",
              "queued_time": "2023-10-10T02:26:38.6339248Z",
              "session_start_time": null,
              "execution_start_time": "2023-10-10T02:26:38.7964053Z",
              "execution_finish_time": "2023-10-10T02:26:42.9246552Z",
              "spark_jobs": null,
              "parent_msg_id": "5931c782-eb3c-4ffb-8fad-eaa3bd54070e"
            },
            "text/plain": "StatementMeta(venkysparkpool, 1, 4, Finished, Available)"
          },
          "metadata": {}
        }
      ],
      "execution_count": 11,
      "metadata": {
        "jupyter": {
          "source_hidden": false,
          "outputs_hidden": false
        },
        "nteract": {
          "transient": {
            "deleting": false
          }
        }
      }
    },
    {
      "cell_type": "code",
      "source": [
        "json_movie_genre = spark.read.json(\"abfss://files@venkydatalake1001.dfs.core.windows.net/bronze/movielens/movie_genre\")\r\n",
        "json_movie_genre.printSchema()"
      ],
      "outputs": [
        {
          "output_type": "display_data",
          "data": {
            "application/vnd.livy.statement-meta+json": {
              "spark_pool": "venkysparkpool",
              "session_id": "1",
              "statement_id": 5,
              "state": "finished",
              "livy_statement_state": "available",
              "queued_time": "2023-10-10T02:26:57.8879284Z",
              "session_start_time": null,
              "execution_start_time": "2023-10-10T02:26:58.0397733Z",
              "execution_finish_time": "2023-10-10T02:26:59.9983125Z",
              "spark_jobs": null,
              "parent_msg_id": "96ccf239-7379-4ddb-85b8-f3331634eae3"
            },
            "text/plain": "StatementMeta(venkysparkpool, 1, 5, Finished, Available)"
          },
          "metadata": {}
        },
        {
          "output_type": "stream",
          "name": "stdout",
          "text": [
            "root\n |-- genre_id: long (nullable = true)\n |-- movie_id: long (nullable = true)\n\n"
          ]
        }
      ],
      "execution_count": 12,
      "metadata": {
        "jupyter": {
          "source_hidden": false,
          "outputs_hidden": false
        },
        "nteract": {
          "transient": {
            "deleting": false
          }
        }
      }
    },
    {
      "cell_type": "code",
      "source": [
        "json_movie_genre.write.mode(\"overwrite\").parquet(\"abfss://files@venkydatalake1001.dfs.core.windows.net/bronze/movielens/movie_genre_parq\")"
      ],
      "outputs": [
        {
          "output_type": "display_data",
          "data": {
            "application/vnd.livy.statement-meta+json": {
              "spark_pool": "venkysparkpool",
              "session_id": "1",
              "statement_id": 6,
              "state": "finished",
              "livy_statement_state": "available",
              "queued_time": "2023-10-10T02:27:06.7934421Z",
              "session_start_time": null,
              "execution_start_time": "2023-10-10T02:27:06.9524394Z",
              "execution_finish_time": "2023-10-10T02:27:09.8885502Z",
              "spark_jobs": null,
              "parent_msg_id": "d8b15f35-18f7-49bc-85ab-e94609cd9bb7"
            },
            "text/plain": "StatementMeta(venkysparkpool, 1, 6, Finished, Available)"
          },
          "metadata": {}
        }
      ],
      "execution_count": 13,
      "metadata": {
        "jupyter": {
          "source_hidden": false,
          "outputs_hidden": false
        },
        "nteract": {
          "transient": {
            "deleting": false
          }
        }
      }
    }
  ],
  "metadata": {
    "language_info": {
      "name": "python"
    },
    "kernelspec": {
      "name": "synapse_pyspark",
      "language": "Python",
      "display_name": "Synapse PySpark"
    },
    "kernel_info": {
      "name": "synapse_pyspark"
    },
    "description": "Genre files werewritten as JSON, need to convert to parquet.",
    "save_output": true,
    "synapse_widget": {
      "version": "0.1",
      "state": {}
    }
  },
  "nbformat": 4,
  "nbformat_minor": 2
}