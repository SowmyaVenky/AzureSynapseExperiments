{
  "cells": [
    {
      "cell_type": "code",
      "source": [
        "print(spark)"
      ],
      "outputs": [
        {
          "output_type": "display_data",
          "data": {
            "application/vnd.livy.statement-meta+json": {
              "spark_pool": "venkysparkpool",
              "session_id": "0",
              "statement_id": 2,
              "state": "finished",
              "livy_statement_state": "available",
              "queued_time": "2023-10-10T00:39:37.9201318Z",
              "session_start_time": "2023-10-10T00:39:37.9664898Z",
              "execution_start_time": "2023-10-10T00:43:17.5861128Z",
              "execution_finish_time": "2023-10-10T00:43:17.794418Z",
              "spark_jobs": null,
              "parent_msg_id": "6c79f7e9-9759-4f86-b313-c7e5a4f8b168"
            },
            "text/plain": "StatementMeta(venkysparkpool, 0, 2, Finished, Available)"
          },
          "metadata": {}
        },
        {
          "output_type": "stream",
          "name": "stdout",
          "text": [
            "<pyspark.sql.session.SparkSession object at 0x7f57429620d0>\n"
          ]
        }
      ],
      "execution_count": 1,
      "metadata": {}
    },
    {
      "cell_type": "code",
      "source": [
        "json_genre = spark.read.json(\"abfss://files@venkydatalake1001.dfs.core.windows.net/bronze/movielens/genre\")\r\n",
        "json_genre.printSchema()"
      ],
      "outputs": [
        {
          "output_type": "display_data",
          "data": {
            "application/vnd.livy.statement-meta+json": {
              "spark_pool": "venkysparkpool",
              "session_id": "0",
              "statement_id": 5,
              "state": "finished",
              "livy_statement_state": "available",
              "queued_time": "2023-10-10T00:49:25.068092Z",
              "session_start_time": null,
              "execution_start_time": "2023-10-10T00:49:25.2472931Z",
              "execution_finish_time": "2023-10-10T00:49:25.8506364Z",
              "spark_jobs": null,
              "parent_msg_id": "5eacd018-9d1b-41f7-8c2e-4a4db3ddc836"
            },
            "text/plain": "StatementMeta(venkysparkpool, 0, 5, Finished, Available)"
          },
          "metadata": {}
        },
        {
          "output_type": "stream",
          "name": "stdout",
          "text": [
            "root\n |-- genre_id: long (nullable = true)\n |-- genre_name: string (nullable = true)\n\n"
          ]
        }
      ],
      "execution_count": 4,
      "metadata": {
        "jupyter": {
          "source_hidden": false,
          "outputs_hidden": false
        },
        "nteract": {
          "transient": {
            "deleting": false
          }
        }
      }
    },
    {
      "cell_type": "code",
      "source": [
        "json_genre.write.parquet(\"abfss://files@venkydatalake1001.dfs.core.windows.net/bronze/movielens/genre_parq\")"
      ],
      "outputs": [
        {
          "output_type": "display_data",
          "data": {
            "application/vnd.livy.statement-meta+json": {
              "spark_pool": "venkysparkpool",
              "session_id": "0",
              "statement_id": 6,
              "state": "finished",
              "livy_statement_state": "available",
              "queued_time": "2023-10-10T00:50:39.799695Z",
              "session_start_time": null,
              "execution_start_time": "2023-10-10T00:50:40.0014594Z",
              "execution_finish_time": "2023-10-10T00:50:59.4806306Z",
              "spark_jobs": null,
              "parent_msg_id": "7539b16d-a68c-494f-8527-605c53947f5f"
            },
            "text/plain": "StatementMeta(venkysparkpool, 0, 6, Finished, Available)"
          },
          "metadata": {}
        }
      ],
      "execution_count": 5,
      "metadata": {
        "jupyter": {
          "source_hidden": false,
          "outputs_hidden": false
        },
        "nteract": {
          "transient": {
            "deleting": false
          }
        }
      }
    },
    {
      "cell_type": "code",
      "source": [
        "json_movie_genre = spark.read.json(\"abfss://files@venkydatalake1001.dfs.core.windows.net/bronze/movielens/movie_genre\")\r\n",
        "json_movie_genre.printSchema()"
      ],
      "outputs": [
        {
          "output_type": "display_data",
          "data": {
            "application/vnd.livy.statement-meta+json": {
              "spark_pool": "venkysparkpool",
              "session_id": "0",
              "statement_id": 7,
              "state": "finished",
              "livy_statement_state": "available",
              "queued_time": "2023-10-10T00:51:52.3929061Z",
              "session_start_time": null,
              "execution_start_time": "2023-10-10T00:51:52.5375268Z",
              "execution_finish_time": "2023-10-10T00:51:53.7046425Z",
              "spark_jobs": null,
              "parent_msg_id": "0be3161e-46af-497c-885f-b18b99fc9067"
            },
            "text/plain": "StatementMeta(venkysparkpool, 0, 7, Finished, Available)"
          },
          "metadata": {}
        },
        {
          "output_type": "stream",
          "name": "stdout",
          "text": [
            "root\n |-- genre_id: long (nullable = true)\n |-- movie_id: long (nullable = true)\n\n"
          ]
        }
      ],
      "execution_count": 6,
      "metadata": {
        "jupyter": {
          "source_hidden": false,
          "outputs_hidden": false
        },
        "nteract": {
          "transient": {
            "deleting": false
          }
        }
      }
    },
    {
      "cell_type": "code",
      "source": [
        "json_movie_genre.write.parquet(\"abfss://files@venkydatalake1001.dfs.core.windows.net/bronze/movielens/movie_genre_parq\")"
      ],
      "outputs": [
        {
          "output_type": "display_data",
          "data": {
            "application/vnd.livy.statement-meta+json": {
              "spark_pool": "venkysparkpool",
              "session_id": "0",
              "statement_id": 8,
              "state": "finished",
              "livy_statement_state": "available",
              "queued_time": "2023-10-10T00:52:29.334535Z",
              "session_start_time": null,
              "execution_start_time": "2023-10-10T00:52:29.4944883Z",
              "execution_finish_time": "2023-10-10T00:52:32.4146405Z",
              "spark_jobs": null,
              "parent_msg_id": "86a2fabb-422f-4f18-8f24-81717357f1e0"
            },
            "text/plain": "StatementMeta(venkysparkpool, 0, 8, Finished, Available)"
          },
          "metadata": {}
        }
      ],
      "execution_count": 7,
      "metadata": {
        "jupyter": {
          "source_hidden": false,
          "outputs_hidden": false
        },
        "nteract": {
          "transient": {
            "deleting": false
          }
        }
      }
    }
  ],
  "metadata": {
    "language_info": {
      "name": "python"
    },
    "kernelspec": {
      "name": "synapse_pyspark",
      "language": "Python",
      "display_name": "Synapse PySpark"
    },
    "kernel_info": {
      "name": "synapse_pyspark"
    },
    "description": "Genre files werewritten as JSON, need to convert to parquet.",
    "save_output": true,
    "synapse_widget": {
      "version": "0.1",
      "state": {}
    }
  },
  "nbformat": 4,
  "nbformat_minor": 2
}